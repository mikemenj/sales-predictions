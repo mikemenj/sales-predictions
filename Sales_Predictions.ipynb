{
  "nbformat": 4,
  "nbformat_minor": 0,
  "metadata": {
    "colab": {
      "provenance": [],
      "authorship_tag": "ABX9TyMX0kYk/BoHUSwe1nZyLKX2",
      "include_colab_link": true
    },
    "kernelspec": {
      "name": "python3",
      "display_name": "Python 3"
    },
    "language_info": {
      "name": "python"
    }
  },
  "cells": [
    {
      "cell_type": "markdown",
      "metadata": {
        "id": "view-in-github",
        "colab_type": "text"
      },
      "source": [
        "<a href=\"https://colab.research.google.com/github/mikemenj/sales-predictions/blob/main/Sales_Predictions.ipynb\" target=\"_parent\"><img src=\"https://colab.research.google.com/assets/colab-badge.svg\" alt=\"Open In Colab\"/></a>"
      ]
    },
    {
      "cell_type": "markdown",
      "source": [
        "#Sales Predictions\n",
        "-Michael Menjares\n"
      ],
      "metadata": {
        "id": "uaM6s5Jj32at"
      }
    },
    {
      "cell_type": "markdown",
      "source": [
        "##Loading Data"
      ],
      "metadata": {
        "id": "dAnp1N3b4Hk6"
      }
    },
    {
      "cell_type": "code",
      "source": [],
      "metadata": {
        "id": "bFU74Zho4jvX"
      },
      "execution_count": null,
      "outputs": []
    },
    {
      "cell_type": "markdown",
      "source": [
        "##Data Cleaning"
      ],
      "metadata": {
        "id": "tOyyk_Yp4Lhf"
      }
    },
    {
      "cell_type": "code",
      "source": [],
      "metadata": {
        "id": "8njYmZsa4kbe"
      },
      "execution_count": null,
      "outputs": []
    },
    {
      "cell_type": "markdown",
      "source": [
        "##Exploratory Visuals"
      ],
      "metadata": {
        "id": "Oi5RjU__4Q95"
      }
    },
    {
      "cell_type": "code",
      "source": [],
      "metadata": {
        "id": "3TT2xyYq4k09"
      },
      "execution_count": null,
      "outputs": []
    },
    {
      "cell_type": "markdown",
      "source": [
        "##Explanatory Visuals"
      ],
      "metadata": {
        "id": "ZtMCouYZ4VKJ"
      }
    },
    {
      "cell_type": "code",
      "source": [],
      "metadata": {
        "id": "uN-m0vur4lUd"
      },
      "execution_count": null,
      "outputs": []
    }
  ]
}